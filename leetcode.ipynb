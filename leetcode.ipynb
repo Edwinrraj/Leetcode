{
 "cells": [
  {
   "cell_type": "markdown",
   "id": "4f8f9130-f62c-4278-8769-c7983173d22e",
   "metadata": {},
   "source": [
    "## 1. Two Sum"
   ]
  },
  {
   "cell_type": "code",
   "execution_count": 1,
   "id": "9c7c0a43-cb08-481c-b35a-51214fc58d19",
   "metadata": {},
   "outputs": [],
   "source": [
    "class Solution:\n",
    "    def twoSum(self, nums: [int], target: int) -> [int]:\n",
    "        for i in range (len(nums)):\n",
    "            for j in range(i+1,len(nums)):\n",
    "                if target == nums[i]+nums[j]:\n",
    "                    return [i,j]"
   ]
  },
  {
   "cell_type": "code",
   "execution_count": 2,
   "id": "54254ca3-e58d-40d8-b2b1-e6cd253cc80b",
   "metadata": {},
   "outputs": [
    {
     "data": {
      "text/plain": [
       "[0, 1]"
      ]
     },
     "execution_count": 2,
     "metadata": {},
     "output_type": "execute_result"
    }
   ],
   "source": [
    "Solution().twoSum([2,7,11,15],9)"
   ]
  },
  {
   "cell_type": "markdown",
   "id": "ae2135e3-4787-42c4-84b2-9d33a2a00fd7",
   "metadata": {},
   "source": [
    "## 9. Palindrome Number\n"
   ]
  },
  {
   "cell_type": "code",
   "execution_count": 3,
   "id": "4be114d1-15ce-446b-858f-4f79653565c6",
   "metadata": {},
   "outputs": [],
   "source": [
    "class Solution:\n",
    "    def isPalindrome(self, x: int) -> bool:\n",
    "        if x < 0:\n",
    "            return False\n",
    "        else:\n",
    "            if x == int(str(x)[::-1]):\n",
    "                return True\n",
    "            else:\n",
    "                return False"
   ]
  },
  {
   "cell_type": "code",
   "execution_count": 4,
   "id": "0cc08713-6e15-4327-bb0e-0ac05b48d746",
   "metadata": {},
   "outputs": [
    {
     "data": {
      "text/plain": [
       "True"
      ]
     },
     "execution_count": 4,
     "metadata": {},
     "output_type": "execute_result"
    }
   ],
   "source": [
    "Solution().isPalindrome(121)"
   ]
  },
  {
   "cell_type": "markdown",
   "id": "b13b089f-d823-419f-9f38-eb878ff79bfb",
   "metadata": {},
   "source": [
    "## 13. Roman to Integer\n"
   ]
  },
  {
   "cell_type": "code",
   "execution_count": 5,
   "id": "a0d1007f-69f9-4a30-92bb-2a8406abea5b",
   "metadata": {},
   "outputs": [],
   "source": [
    "class Solution:\n",
    "    def romanToInt(self, s: str) -> int:\n",
    "        d = {'I':1,'V':5,'X':10,'L':50,'C':100,'D':500,'M':1000}\n",
    "        sum = 0\n",
    "        for i in range(len(s)):\n",
    "            if i+1<len(s) and d[s[i]]<d[s[i+1]]:\n",
    "                sum-=d[s[i]]\n",
    "            else:\n",
    "                sum+=d[s[i]]\n",
    "        return sum\n",
    "        "
   ]
  },
  {
   "cell_type": "code",
   "execution_count": 6,
   "id": "9a0cba45-c5e2-4275-a606-da212ca8def4",
   "metadata": {},
   "outputs": [
    {
     "data": {
      "text/plain": [
       "3"
      ]
     },
     "execution_count": 6,
     "metadata": {},
     "output_type": "execute_result"
    }
   ],
   "source": [
    "Solution().romanToInt('III')"
   ]
  },
  {
   "cell_type": "markdown",
   "id": "039f1806-c1a2-49f8-ae5e-db37f6800f3a",
   "metadata": {},
   "source": [
    "## 1502. Can Make Arithmetic Progression From Sequence"
   ]
  },
  {
   "cell_type": "code",
   "execution_count": 7,
   "id": "0388dea2-9973-4cb6-a610-7254577faf1c",
   "metadata": {},
   "outputs": [],
   "source": [
    "class Solution:\n",
    "    def canMakeArithmeticProgression(self, arr: [int]) -> bool:\n",
    "        x = sorted(arr)\n",
    "        s = []\n",
    "        e = []\n",
    "        for i in range(len(x)-1):\n",
    "            s.append(x[i]-x[i+1])\n",
    "        for i in s:\n",
    "            if i not in e:\n",
    "                e.append(i)\n",
    "        if len(e) == 1:\n",
    "            return True\n",
    "        else:\n",
    "            return False"
   ]
  },
  {
   "cell_type": "code",
   "execution_count": 8,
   "id": "87a186f0-dac2-44b4-b63a-12d78e91b639",
   "metadata": {},
   "outputs": [
    {
     "data": {
      "text/plain": [
       "True"
      ]
     },
     "execution_count": 8,
     "metadata": {},
     "output_type": "execute_result"
    }
   ],
   "source": [
    "Solution().canMakeArithmeticProgression([1,5,3])"
   ]
  },
  {
   "cell_type": "code",
   "execution_count": null,
   "id": "d64c7d95-25dd-4c5a-b70c-dbe2f140dc40",
   "metadata": {},
   "outputs": [],
   "source": []
  },
  {
   "cell_type": "code",
   "execution_count": null,
   "id": "133b98e3-77f5-4d5a-9faf-c02ac32a9558",
   "metadata": {},
   "outputs": [],
   "source": [
    "x = 3\n",
    "d = {1:'I',5:'V',10:'X',50:'L',100:'C',500:'D',1000:'M'}\n"
   ]
  },
  {
   "cell_type": "code",
   "execution_count": null,
   "id": "3a6c7565-87d1-4815-88d0-c4473cb1bef9",
   "metadata": {},
   "outputs": [],
   "source": []
  },
  {
   "cell_type": "code",
   "execution_count": null,
   "id": "2239594c-66b1-4ae4-9bab-1cc36f547a34",
   "metadata": {},
   "outputs": [],
   "source": []
  }
 ],
 "metadata": {
  "kernelspec": {
   "display_name": "Python 3 (ipykernel)",
   "language": "python",
   "name": "python3"
  },
  "language_info": {
   "codemirror_mode": {
    "name": "ipython",
    "version": 3
   },
   "file_extension": ".py",
   "mimetype": "text/x-python",
   "name": "python",
   "nbconvert_exporter": "python",
   "pygments_lexer": "ipython3",
   "version": "3.10.4"
  }
 },
 "nbformat": 4,
 "nbformat_minor": 5
}
